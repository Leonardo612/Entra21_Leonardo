{
  "nbformat": 4,
  "nbformat_minor": 0,
  "metadata": {
    "colab": {
      "name": "opmatematica.ipynb",
      "provenance": [],
      "collapsed_sections": []
    },
    "kernelspec": {
      "display_name": "Python 3",
      "language": "python",
      "name": "python3"
    },
    "language_info": {
      "codemirror_mode": {
        "name": "ipython",
        "version": 3
      },
      "file_extension": ".py",
      "mimetype": "text/x-python",
      "name": "python",
      "nbconvert_exporter": "python",
      "pygments_lexer": "ipython3",
      "version": "3.7.3"
    }
  },
  "cells": [
    {
      "cell_type": "markdown",
      "metadata": {
        "id": "_Vt1b0I7xnyQ",
        "colab_type": "text"
      },
      "source": [
        "---\n",
        "\n",
        "\n",
        "<h1><b><center>Operações Matemáticas Básicas</center></b></h1>\n",
        "\n",
        "\n",
        "---"
      ]
    },
    {
      "cell_type": "markdown",
      "metadata": {
        "id": "0ojLjYGFxnyR",
        "colab_type": "text"
      },
      "source": [
        "O python possui 7 operadores matemáticos. Vamos ver os 5 primeiros.<br>\n",
        "\n",
        "<b>SOMA</b><br>\n",
        "O operado usado para soma é o sinal de mais \\+<br>\n",
        "2 \\+ 2 \\= 4<br>\n",
        "\n",
        "<b>Subtração</b><br>\n",
        "O operador para subtração é o sinal de menos \\-<br>\n",
        "5 \\- 3 \\= 2<br>\n",
        "\n",
        "<b>Divizão</b><br>\n",
        "O operador para divizão é a barra \\/<br>\n",
        "10 \\/ 2 \\= 10<br>\n",
        "\n",
        "<b>Multiplicação</b><br>\n",
        "O operador para multiplicação é o asterisco \\*<br>\n",
        "2 \\* 5 \\= 10<br>\n",
        "Quando aparecer a seguinte situação:<br> 2x <br>isso é a mesma coisa que:<br> 2*x<br>\n",
        "\n",
        "<b>Expoente</b><br>\n",
        "Você se lemba o que é um expoente?<br>\n",
        "O expoente é uma conta matemática em que o primeiro número multiplica por ele mesmo uma quantidade de vezes.<br>\n",
        "Exempo é o 4² (lea-se 4 elevado a 2 ou 4 ao quadrado)<br>\n",
        "4² -> 4 \\* 4 \\= 16<br>\n",
        "4³ -> 4 \\* 4 \\* 4 \\= 64<br>\n",
        "O operador para o expoente são dois asteriscos \\*\\*<br>\n",
        "4² -> 4 \\*\\* 2 \\= 16<br>\n",
        "4³ -> 4 \\*\\* 3 \\= 64\n",
        "\n"
      ]
    },
    {
      "cell_type": "code",
      "metadata": {
        "id": "H8FmF4BXxnyR",
        "colab_type": "code",
        "colab": {}
      },
      "source": [
        "# exemplo de soma:\n",
        "numero1 = int(input(\"Digite o primeiro número: \"))\n",
        "numero2 = int(input(\"Digite o segundo número: \"))\n",
        "soma = numero1 + numero2\n",
        "print(\"A soma dos números é: \", soma)\n",
        "\n",
        "print(\"\\n\")\n",
        "\n",
        "# exemplo de multiplicação:\n",
        "valor = float(input(\"Digite o preço do produto: \"))\n",
        "quantidade = int(input(\"Digite a quantidade de produto que você deseja: \"))\n",
        "preco_total = valor * quantidade\n",
        "print(\"O valor total a ser pago é: \", preco_total)\n",
        "\n",
        "print('\\n')\n",
        "\n",
        "# exemplo de divisão\n",
        "quantidade = int(input(\"Digite a quantidade de laranjas que você tem: \"))\n",
        "pessoas = int(input(\"Digite a quantidade de pessoas: \"))\n",
        "divisao = quantidade / pessoas\n",
        "print(\"Cada pessoa deve ficar com \", divisao, \" laranjas\")\n",
        "\n",
        "# exemplo de subtração\n",
        "predio_alto = float(input(\"Digite o tamanho do prédio alto: \"))\n",
        "predio_baixo = float(input(\"Digite o tamanho do prédio baixo: \"))\n",
        "diferenca = predio_alto - predio_baixo\n",
        "print(\"O prédio mais alto \", diferenca, \" metros mais alto que o prédio baixo\")\n",
        "\n",
        "# exemplo de expoente\n",
        "numero = int(input(\"Digite o número para ser elevado ao quadrado: \"))\n",
        "quadrado = numero ** 2\n",
        "print(\"O quadrado de \", numero, \" é: \",quadrado)\n"
      ],
      "execution_count": null,
      "outputs": []
    },
    {
      "cell_type": "markdown",
      "metadata": {
        "id": "ZNUK4iFvxnyW",
        "colab_type": "text"
      },
      "source": [
        "<h1><b>Exercicio 12</b></h1>\n",
        "\n",
        "Crie um program que peça ao usuário que digite 2 números reias(float) e mostre:\n",
        "\n",
        "A soma dos dois<br>\n",
        "A multiplicação dos dois<br>\n",
        "A divisão do primeiro com o segundo<br>\n",
        "A subtração dos dois<br>"
      ]
    },
    {
      "cell_type": "code",
      "metadata": {
        "id": "Z0GKyGAuxnyW",
        "colab_type": "code",
        "colab": {
          "base_uri": "https://localhost:8080/",
          "height": 119
        },
        "outputId": "d6620e70-03db-427b-b5fd-336a5b9ab418"
      },
      "source": [
        "numero1 = float(input(\"Digite o primeiro numero: \"))\n",
        "numero2 = float(input(\"Digite o segundo numero: \"))\n",
        "soma = numero1 + numero2\n",
        "mult = numero1 * numero2\n",
        "divi = numero1 / numero2\n",
        "sub = numero1 - numero2\n",
        "print(\"A soma dos dois numeros é: \",soma)\n",
        "print(\"A multiplicaçaõ dos dois numeros é: \",mult)\n",
        "print(\"A divisão dos dois numeros é: \",divi)\n",
        "print(\"A Subtração dos dois numeros é: \",sub)"
      ],
      "execution_count": 2,
      "outputs": [
        {
          "output_type": "stream",
          "text": [
            "Digite o primeiro numero: 4\n",
            "Digite o segundo numero: 6\n",
            "A soma dos dois numeros é:  10.0\n",
            "A multiplicaçaõ dos dois numeros é:  24.0\n",
            "A divisão dos dois numeros é:  0.6666666666666666\n",
            "A Subtração dos dois numeros é:  -2.0\n"
          ],
          "name": "stdout"
        }
      ]
    },
    {
      "cell_type": "markdown",
      "metadata": {
        "id": "qQ11_wQbxnyZ",
        "colab_type": "text"
      },
      "source": [
        "<h1><b>Exercicio 13</b></h1>\n",
        "Crie um programa que solicite o valor de x (inteiro)\n",
        "\n",
        "calcule usando a fórmula x+3\n",
        "\n",
        "mostre o resultado"
      ]
    },
    {
      "cell_type": "code",
      "metadata": {
        "id": "f2dN2mgyxnyZ",
        "colab_type": "code",
        "colab": {
          "base_uri": "https://localhost:8080/",
          "height": 51
        },
        "outputId": "5f0aa845-3719-459b-f897-77b8fb4c3887"
      },
      "source": [
        "x = int(input(\"Digite o valor de x: \"))\n",
        "resultado = x+3\n",
        "print(\"O resultodo é: \",resultado)"
      ],
      "execution_count": 4,
      "outputs": [
        {
          "output_type": "stream",
          "text": [
            "Digite o valor de x: 2\n",
            "O resultodo é:  5\n"
          ],
          "name": "stdout"
        }
      ]
    },
    {
      "cell_type": "markdown",
      "metadata": {
        "id": "XSvuV5M_xnyb",
        "colab_type": "text"
      },
      "source": [
        "<h1><b>Exercicio 14</b></h1>\n",
        "Crie um programa que solicite o valor de x (inteiro)\n",
        "\n",
        "calcule usando a fórmula 2x+3\n",
        "\n",
        "mostre o resultado"
      ]
    },
    {
      "cell_type": "code",
      "metadata": {
        "id": "5ML5xxlIxnyc",
        "colab_type": "code",
        "colab": {
          "base_uri": "https://localhost:8080/",
          "height": 51
        },
        "outputId": "93a9aa27-9f81-440f-bf33-9fecbbb8efa9"
      },
      "source": [
        "x = int(input(\"Digite o valor de x: \"))\n",
        "resultado2 = 2*x+3\n",
        "print(\"O resultado é: \",resultado2)"
      ],
      "execution_count": 5,
      "outputs": [
        {
          "output_type": "stream",
          "text": [
            "Digite o valor de x: 2\n",
            "O resultado é:  7\n"
          ],
          "name": "stdout"
        }
      ]
    },
    {
      "cell_type": "markdown",
      "metadata": {
        "id": "N3RUk6Tnxnye",
        "colab_type": "text"
      },
      "source": [
        "<h1><b>Exercicio 15</b></h1>\n",
        "Crie um programa que solicite o valor de x (inteiro)\n",
        "\n",
        "calcule usando a fórmula 3x-x+3\n",
        "\n",
        "mostre o resultado"
      ]
    },
    {
      "cell_type": "code",
      "metadata": {
        "id": "2FeQFjBLxnyf",
        "colab_type": "code",
        "colab": {
          "base_uri": "https://localhost:8080/",
          "height": 51
        },
        "outputId": "fd477ea0-9e65-444e-b563-fb367964ecc2"
      },
      "source": [
        "x = int(input(\"Digite o valor de x: \"))\n",
        "resultado3 = 3*x-x+3\n",
        "print(\"O resultado é: \",resultado3)"
      ],
      "execution_count": 8,
      "outputs": [
        {
          "output_type": "stream",
          "text": [
            "Digite o valor de x: 3\n",
            "O resultado é:  9\n"
          ],
          "name": "stdout"
        }
      ]
    },
    {
      "cell_type": "markdown",
      "metadata": {
        "id": "4d-XQ8vWxnyh",
        "colab_type": "text"
      },
      "source": [
        "<h1><b>Exercicio 16</b></h1>\n",
        "Foi verificado que a venda de bermudas aumenta conforme aumenta a temperatura (t) (float) conforme a seguinte fórmula:\n",
        "\n",
        "bermudas = 1.5t + t + 150\n",
        "\n",
        "Lembrando que o t significa temperatura.\n",
        "\n",
        "Faça um programa para o seu superior que peça a temperatura e mostre a venda prevista de bermudas."
      ]
    },
    {
      "cell_type": "code",
      "metadata": {
        "id": "OyOZpjKbxnyh",
        "colab_type": "code",
        "colab": {
          "base_uri": "https://localhost:8080/",
          "height": 51
        },
        "outputId": "e2365317-4cd4-46b5-f4c5-4c5cc8109049"
      },
      "source": [
        "t = float(input(\"Digite a temperatura: \"))\n",
        "bermudas = 1.5*t + t + 150\n",
        "print(\"A venda prevista de bermudas é: \",bermudas)"
      ],
      "execution_count": 11,
      "outputs": [
        {
          "output_type": "stream",
          "text": [
            "Digite a temperatura: 15\n",
            "A venda prevista de bermudas é:  187.5\n"
          ],
          "name": "stdout"
        }
      ]
    },
    {
      "cell_type": "markdown",
      "metadata": {
        "id": "3XtCuBkHxnyk",
        "colab_type": "text"
      },
      "source": [
        "<h1><b>Exercicio 17</b></h1>\n",
        "A formula de calculo de área de um circulo é:\n",
        "\n",
        "area = pi*r²\n",
        "\n",
        "Sabemos que:\n",
        "\n",
        "pi = 3.14<br>\n",
        "r = raio da circunferência em metros (float)\n",
        "\n",
        "Crie um programa que peça ao usuário o raio e calcule a área da circunferência\n"
      ]
    },
    {
      "cell_type": "code",
      "metadata": {
        "id": "uan-hVMkxnyl",
        "colab_type": "code",
        "colab": {
          "base_uri": "https://localhost:8080/",
          "height": 51
        },
        "outputId": "2900cc1d-8d3a-4143-bd5b-8e3caeffb25d"
      },
      "source": [
        "r = float(input(\"Digite o valor do raio: \"))\n",
        "pi = 3.14\n",
        "area = pi*r**2\n",
        "print(\"A area é: \",area)"
      ],
      "execution_count": 13,
      "outputs": [
        {
          "output_type": "stream",
          "text": [
            "Digite o valor do raio: 4.7\n",
            "A area é:  69.36260000000001\n"
          ],
          "name": "stdout"
        }
      ]
    },
    {
      "cell_type": "markdown",
      "metadata": {
        "id": "_kTKzzXpxnyn",
        "colab_type": "text"
      },
      "source": [
        "<h1><b>Exercicio 18</b></h1>\n",
        "Crie um programa que solicite o valores (inteiros) de a, b e c para o cálculo do delta\n",
        "\n",
        "A fórmula do delta é:\n",
        "\n",
        "delta = b²-4ac\n",
        "\n",
        "após calcular, mostre o resultado na tela."
      ]
    },
    {
      "cell_type": "code",
      "metadata": {
        "id": "gW3JlzQHxnyn",
        "colab_type": "code",
        "colab": {
          "base_uri": "https://localhost:8080/",
          "height": 85
        },
        "outputId": "358623e2-5325-4862-cc5c-8fe27ed27bc8"
      },
      "source": [
        "a = int(input(\"Digite o valor de a: \"))\n",
        "b = int(input(\"Digite o valor de b: \"))\n",
        "c = int(input(\"Digite o valor de c: \"))\n",
        "delta = b**2-4*a*c\n",
        "print(\"O resultado do delta é: \",delta)"
      ],
      "execution_count": 15,
      "outputs": [
        {
          "output_type": "stream",
          "text": [
            "Digite o valor de a: 5\n",
            "Digite o valor de b: 6\n",
            "Digite o valor de c: 2\n",
            "O resultado do delta é:  -4\n"
          ],
          "name": "stdout"
        }
      ]
    },
    {
      "cell_type": "markdown",
      "metadata": {
        "id": "f2zrMbg7xnyp",
        "colab_type": "text"
      },
      "source": [
        "<h1><b>Exercicio 19</b></h1>\n",
        "Para calcular o valor do empréstimo usa-se a seguinte fórmula:\n",
        "\n",
        "valor_receber \\= dinheiro_emprestado\\*(1\\+(taxa_juros\\/100))\\*\\*tempo_emprestimo\n",
        "\n",
        "<b>Sendo que:</b><br>\n",
        "valor_receber (float) -> É o valor que você deve receber de volta. Este valor é sempre maior que o valor emprestado.<br>\n",
        "dinheiro_emprestado (float) -> É o valor que você está emprestando.<br>\n",
        "taxa_juros (float) -> Essa é a taxa de juros em porcentagem que irá ser aplicado no valor emprestado todo o mês aumentando o valor a receber<br>\n",
        "tempo_emprestimo (inteiro) -> É o tempo que vai demorar para voê receber o dinheiro de volta.\n",
        "\n",
        "Se você emprestou R$150.00 por 3 mêses a uma taxa de 4.5 porcento ao mês, você deve fazer a seguinte conta:<br>\n",
        "valor_receber \\= 150\\*(1\\+(4.5\\/100))\\*\\*3<br>\n",
        "o resultado deve ser: 171.17491874999996\n",
        "\n",
        "\n",
        "Crie um programa que calcule o emprestimo de R$250.00 a uma taxa de 5.5 porcento ao mês. O programa deve pedir ao usuário que digite quantos mêses deve durar o empréstimo e mostre na tela o valor a ser recebido.\n",
        "\n",
        "\n",
        "\n"
      ]
    },
    {
      "cell_type": "markdown",
      "metadata": {
        "id": "rlJPvzvE40kG",
        "colab_type": "text"
      },
      "source": [
        ""
      ]
    },
    {
      "cell_type": "code",
      "metadata": {
        "id": "acpy-TfOxnyq",
        "colab_type": "code",
        "colab": {
          "base_uri": "https://localhost:8080/",
          "height": 51
        },
        "outputId": "64dc58cc-80a4-42f7-983b-3a434e333144"
      },
      "source": [
        "din_emprestado = 250\n",
        "taxa_juros = 5.5\n",
        "tempo = int(input(\"Digite o tempo do emprestimo: \"))\n",
        "valor_receber = 250*(1+(5.5/100))**tempo\n",
        "print(\"O valor a ser recebido é de: \",valor_receber)\n"
      ],
      "execution_count": 17,
      "outputs": [
        {
          "output_type": "stream",
          "text": [
            "Digite o tempo do emprestimo: 5\n",
            "O valor a ser recebido é de:  326.7400016023437\n"
          ],
          "name": "stdout"
        }
      ]
    },
    {
      "cell_type": "markdown",
      "metadata": {
        "id": "cuiBCvNhxnyt",
        "colab_type": "text"
      },
      "source": [
        "<h1><b>Exercicio 20</b></h1>\n",
        "Usando a seguinte fórmula:\n",
        "\n",
        "valor_receber \\= dinheiro_emprestado\\*(1\\+(taxa_juros\\/100))\\*\\*tempo_emprestimo\n",
        "\n",
        "Crie um programa que solicite ao usuário o valor do dinheiro emprestado, a taxa de juros em porcentagem e o tempo do empréstimo.\n",
        "\n",
        "Mostre na telas o valor do dinheiro emprestado, a taxa de juros em porcentagem, tempo do empréstimo e o valor que deve ser devolvido no final do empréstimo."
      ]
    },
    {
      "cell_type": "code",
      "metadata": {
        "id": "4R6UDN3qxnyt",
        "colab_type": "code",
        "colab": {
          "base_uri": "https://localhost:8080/",
          "height": 105
        },
        "outputId": "29096fde-b2a5-4cb0-bd2b-9f1b7cf43cd7"
      },
      "source": [
        "din_emprestado = float(input(\"Digite o valor emprestado: \"))\n",
        "taxa_juros = float(input(\"Digite o valor dos juros: \"))\n",
        "tempo = int(input(\"Digite o tempo do emprestimo: \"))\n",
        "valor_receber2 = din_emprestado*(1+(taxa_juros/100))**tempo\n",
        "print(\"O valor do dinheiro emprestado é de \",din_emprestado,\"R$, a taxa de juros é de \",taxa_juros,\"%, o tempo do emprestimo é de \",tempo,\"meses e o valor a ser recebido é de \",valor_receber,\"R$\")"
      ],
      "execution_count": 18,
      "outputs": [
        {
          "output_type": "stream",
          "text": [
            "Digite o valor emprestado: 400\n",
            "Digite o valor dos juros: 5.6\n",
            "Digite o tempo do emprestimo: 8\n",
            "O valor do dinheiro emprestado é de  400.0 R$, a taxa de juros é de  5.6 %, o tempo do emprestimo é de  8 meses e o valor a ser recebido é de  326.7400016023437 R$\n"
          ],
          "name": "stdout"
        }
      ]
    }
  ]
}