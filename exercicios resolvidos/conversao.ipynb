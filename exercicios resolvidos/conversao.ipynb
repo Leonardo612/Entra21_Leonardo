{
  "nbformat": 4,
  "nbformat_minor": 0,
  "metadata": {
    "colab": {
      "name": "conversao.ipynb",
      "provenance": [],
      "collapsed_sections": []
    },
    "kernelspec": {
      "display_name": "Python 3",
      "language": "python",
      "name": "python3"
    },
    "language_info": {
      "codemirror_mode": {
        "name": "ipython",
        "version": 3
      },
      "file_extension": ".py",
      "mimetype": "text/x-python",
      "name": "python",
      "nbconvert_exporter": "python",
      "pygments_lexer": "ipython3",
      "version": "3.7.3"
    }
  },
  "cells": [
    {
      "cell_type": "markdown",
      "metadata": {
        "id": "FM5j8vYaoy4i",
        "colab_type": "text"
      },
      "source": [
        "---\n",
        "\n",
        "\n",
        "<h1><b><center>Convertendo Tipos de Variáveis</center></b></h1>\n",
        "\n",
        "\n",
        "---"
      ]
    },
    {
      "cell_type": "markdown",
      "metadata": {
        "id": "-uXRXZBQoy4i",
        "colab_type": "text"
      },
      "source": [
        "O input() sempre irá retornar para nós uma string (texto).<br>\n",
        "Porém as vezes precisamos de outros tipos de dados como um inteiro ou um float (ponto flutuante ou real).<br>\n",
        "Para isso devemos usar funções para converter como:<br>\n",
        "- int() para interios\n",
        "- float() para float\n",
        "\n",
        "A escolha vai depender do que você está trabalhando.<br>\n",
        "Exemplo:"
      ]
    },
    {
      "cell_type": "code",
      "metadata": {
        "id": "onDjUAxkoy4j",
        "colab_type": "code",
        "colab": {}
      },
      "source": [
        "# converter variável\n",
        "\n",
        "# de string para inteiro\n",
        "var = '10' # a aspa indica que a variável é do tipo string. \n",
        "var = int(var) # Estou convertendo e salvando na mesma variável\n",
        "\n",
        "# de inteiro para string\n",
        "var = 10\n",
        "var = str(var)\n",
        "\n",
        "# de float para string\n",
        "var = 9.50\n",
        "var = str(var)\n",
        "\n",
        "# de string para float\n",
        "var = '10.75'\n",
        "var = float(var)\n",
        "\n",
        "# de inteiro para float\n",
        "var = 10\n",
        "var = float(var)\n",
        "\n",
        "# de float para inteiro\n",
        "# Ficar atento que esta conversão pega somente a parte inteira do número. A parte depois da virgula é perdida\n",
        "\n",
        "var = 7.85\n",
        "var = int(var)\n",
        "print(var)\n",
        "\n",
        "\n",
        "print('\\n')\n",
        "\n",
        "\n",
        "# pedir 2 números inteiros e fazer a soma deles\n",
        "numero1 = int(input(\"Digite o primeiro número: \"))\n",
        "numero2 = int(input(\"Digite o segundo número: \"))\n",
        "soma = numero1 + numero2\n",
        "print(\"A soma dos números é: \", soma)\n",
        "\n",
        "# pedir 2 número float e somar os dois\n",
        "numero1 = float(input(\"Digite o primeiro número: \"))\n",
        "numero2 = float(input(\"Digite o segundo número: \"))\n",
        "soma = numero1 + numero2\n",
        "print(\"A soma dos números é: \", soma)\n",
        "\n",
        "# em via de regra, usamos o float quando queremos trabalhar com dinheiro, preço, peso, altura...\n",
        "valor = float(input(\"Digite o preço do produto: \"))\n",
        "quantidade = int(input(\"Digite a quantidade de produto que você deseja: \"))\n",
        "preco_total = valor * quantidade\n",
        "print(\"O valor total a ser pago é: \", preco_total)\n"
      ],
      "execution_count": null,
      "outputs": []
    },
    {
      "cell_type": "markdown",
      "metadata": {
        "id": "qjrcThHuoy4m",
        "colab_type": "text"
      },
      "source": [
        "Uma forma de saber que tipo de variável é usando a função type().\n",
        "\n",
        "Exemplo:"
      ]
    },
    {
      "cell_type": "code",
      "metadata": {
        "id": "MNeuNwzdoy4m",
        "colab_type": "code",
        "colab": {}
      },
      "source": [
        "# para descobrir qual o tipo da variável\n",
        "variavel = 10 #inteiro\n",
        "print(\"Inteiro\")\n",
        "print(type(variavel))\n",
        "\n",
        "print('\\n')\n",
        "\n",
        "variavel = 10.0 # float\n",
        "print(\"Float\")\n",
        "print(type(variavel))\n",
        "\n",
        "print('\\n')\n",
        "\n",
        "variavel = '10 abc' # string (texto)\n",
        "print(\"string\")\n",
        "print(type(variavel))\n",
        "\n"
      ],
      "execution_count": null,
      "outputs": []
    },
    {
      "cell_type": "markdown",
      "metadata": {
        "id": "mUeaLDd7oy4q",
        "colab_type": "text"
      },
      "source": [
        "<h1><b>Exercicio 8</b></h1>\n",
        "\n",
        "Converta as seguintes variáveis e imprima na tela o valor e o tipo da variável"
      ]
    },
    {
      "cell_type": "code",
      "metadata": {
        "id": "XNVGxXigoy4q",
        "colab_type": "code",
        "colab": {}
      },
      "source": [
        "# 8.1 Para string (exemplo)\n",
        "numero = 10  # variável para conversão\n",
        "\n",
        "numero = str(numero) # convertendo a variável\n",
        "print(numero,type(numero)) # imprimindo na tela o valor e o tipo da variável\n",
        "\n",
        "print('\\n')\n",
        "\n",
        "# 8.2 Para float\n",
        "valor = '1.99'\n",
        "numero = float(numero)\n",
        "print(numero,type(numero))\n",
        "\n",
        "print('\\n')\n",
        "\n",
        "# 8.3 Para inteiro\n",
        "inteiro = 8.75\n",
        "inteiro = int(inteiro)\n",
        "print(inteiro,type(inteiro))\n",
        "\n",
        "print('\\n')\n",
        "\n",
        "# 8.4 Para string\n",
        "texto_idade = 9\n",
        "texto_idade = str(texto_idade)\n",
        "print(texto_idade,type(texto_idade))\n",
        "print('\\n')\n",
        "\n",
        "# 8.5 Para float\n",
        "valor = 10\n",
        "valor = float(valor)\n",
        "print(valor,type(valor))\n",
        "print('\\n')\n",
        "\n",
        "# 8.6 Para inteiro\n",
        "idade = '9'\n",
        "idade = int(idade)\n",
        "print(idade,type(idade))\n",
        "print('\\n')\n",
        "\n",
        "# 8.7 Para string\n",
        "peso_quilo = 1.755\n",
        "peso_quilo = str(peso_quilo)\n",
        "print(peso_quilo,type(peso_quilo))"
      ],
      "execution_count": null,
      "outputs": []
    },
    {
      "cell_type": "markdown",
      "metadata": {
        "id": "rjmeJHINoy4s",
        "colab_type": "text"
      },
      "source": [
        "<h1><b>Exercicio 9</b></h1>\n",
        "Faça um programa que peça o nome do cliente, a quantidade do produto (inteiro) e o preço (float).\n",
        "\n",
        "Mostre o nome do cliente e o valor total da venda."
      ]
    },
    {
      "cell_type": "code",
      "metadata": {
        "id": "tHziBl9Soy4t",
        "colab_type": "code",
        "colab": {
          "base_uri": "https://localhost:8080/",
          "height": 85
        },
        "outputId": "d1645c91-000c-4505-ea39-9c197b0dc600"
      },
      "source": [
        "nome = str(input(\"Digite seu nome: \"))\n",
        "quantidade = int(input(\"Digite a quantidade do produto: \"))\n",
        "preco = float(input(\"Digite o preço do produto: \"))\n",
        "valor = quantidade*preco\n",
        "print(nome,\"O valor total fica em: \", valor)"
      ],
      "execution_count": 2,
      "outputs": [
        {
          "output_type": "stream",
          "text": [
            "Digite seu nome: Leonardo\n",
            "Digite a quantidade do produto: 4\n",
            "Digite o preço do produto: 3\n",
            "Leonardo O valor total fica em:  12.0\n"
          ],
          "name": "stdout"
        }
      ]
    },
    {
      "cell_type": "markdown",
      "metadata": {
        "id": "zrwvduxvoy4v",
        "colab_type": "text"
      },
      "source": [
        "<h1><b>Exercicio 10</b></h1>\n",
        "Faça um programa que peça o nome de 2 produtos, a quantidade comprada de cada produto (inteiro) e o valor (float) de cada um.\n",
        "\n",
        "Mostre o nome a quantidade, preço por unidade e o total de cada produto."
      ]
    },
    {
      "cell_type": "code",
      "metadata": {
        "id": "UKvA0ms7wPtx",
        "colab_type": "code",
        "colab": {}
      },
      "source": [
        "BAO\n"
      ],
      "execution_count": null,
      "outputs": []
    },
    {
      "cell_type": "code",
      "metadata": {
        "id": "F9XrDvxuoy4v",
        "colab_type": "code",
        "colab": {
          "base_uri": "https://localhost:8080/",
          "height": 255
        },
        "outputId": "206447b5-43c3-4cf4-e8a5-96d3fe207528"
      },
      "source": [
        "produto1 = str(input(\"Digite o nome do primeiro produto: \"))\n",
        "produto2 = str(input(\"Digite o nome do segundo produto: \"))\n",
        "qunt_prod1 = int(input(\"Digite a quantidade do primeiro produto: \"))\n",
        "qunt_prod2 = int(input(\"Digite a quantidade do segundo produto: \"))\n",
        "valor_prod1 = float(input(\"Digite o valor do primeiro produto: \"))\n",
        "valor_prod2 = float(input(\"Digite o valor do segundo produto: \"))\n",
        "print(\"O nome do primeiro produto é: \",produto1 )\n",
        "print(\"O nome do segundo produto é: \",produto2 )\n",
        "print(\"A quantidade do produto 1 é:\",qunt_prod1)\n",
        "print(\"A quantidade do produto 2 é:\",qunt_prod2)\n",
        "preço_uni1 = valor_prod1\n",
        "preço_uni2 = valor_prod2\n",
        "total1 = qunt_prod1 * valor_prod1\n",
        "total2 = qunt_prod2 * valor_prod2\n",
        "print(\"O preço por unidade do produto 1 é: \",preço_uni1)\n",
        "print(\"O preço por unidade do produto 2 é: \",preço_uni2)\n",
        "print(\"O total do produto 1 é: \",total1)\n",
        "print(\"O total do produto 1 é: \",total2)"
      ],
      "execution_count": 3,
      "outputs": [
        {
          "output_type": "stream",
          "text": [
            "Digite o nome do primeiro produto: ET\n",
            "Digite o nome do segundo produto: TR\n",
            "Digite a quantidade do primeiro produto: 2\n",
            "Digite a quantidade do segundo produto: 3\n",
            "Digite o valor do primeiro produto: 1\n",
            "Digite o valor do segundo produto: 4\n",
            "O nome do primeiro produto é:  ET\n",
            "O nome do segundo produto é:  TR\n",
            "A quantidade do produto 1 é: 2\n",
            "A quantidade do produto 2 é: 3\n",
            "O preço por unidade do produto 1 é:  1.0\n",
            "O preço por unidade do produto 2 é:  4.0\n",
            "O total do produto 1 é:  2.0\n",
            "O total do produto 1 é:  12.0\n"
          ],
          "name": "stdout"
        }
      ]
    },
    {
      "cell_type": "markdown",
      "metadata": {
        "id": "WPOWSvoPoy4y",
        "colab_type": "text"
      },
      "source": [
        "<h1><b>Exercicio 11</b></h1>\n",
        "Escreva um programa que peça o peso (float) de 3 pessoas e motre na tela a soma de todos os pesos. "
      ]
    },
    {
      "cell_type": "code",
      "metadata": {
        "id": "HAQ2EL1Soy4y",
        "colab_type": "code",
        "colab": {
          "base_uri": "https://localhost:8080/",
          "height": 85
        },
        "outputId": "e7341d07-d792-44ae-a10d-c996bdc2c435"
      },
      "source": [
        "peso1 = float(input(\"Digite o peso da pessoa 1: \"))\n",
        "peso2 = float(input(\"Digite o peso da pessoa 2: \"))\n",
        "peso3 = float(input(\"Digite o peso da pessoa 3: \"))\n",
        "peso_total = peso1 + peso2 + peso3\n",
        "print(\"O pesso total é: \",peso_total)"
      ],
      "execution_count": 4,
      "outputs": [
        {
          "output_type": "stream",
          "text": [
            "Digite o peso da pessoa 1: 3.98\n",
            "Digite o peso da pessoa 2: 56.9\n",
            "Digite o peso da pessoa 3: 57.67\n",
            "O pesso total é:  118.55\n"
          ],
          "name": "stdout"
        }
      ]
    }
  ]
}