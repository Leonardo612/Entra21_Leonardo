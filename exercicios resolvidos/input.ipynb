{
  "nbformat": 4,
  "nbformat_minor": 0,
  "metadata": {
    "colab": {
      "name": "input.ipynb",
      "provenance": [],
      "collapsed_sections": []
    },
    "kernelspec": {
      "display_name": "Python 3",
      "language": "python",
      "name": "python3"
    },
    "language_info": {
      "codemirror_mode": {
        "name": "ipython",
        "version": 3
      },
      "file_extension": ".py",
      "mimetype": "text/x-python",
      "name": "python",
      "nbconvert_exporter": "python",
      "pygments_lexer": "ipython3",
      "version": "3.7.3"
    }
  },
  "cells": [
    {
      "cell_type": "markdown",
      "metadata": {
        "id": "9x83eHSSlJIq",
        "colab_type": "text"
      },
      "source": [
        "\n",
        "\n",
        "---\n",
        "\n",
        "\n",
        "<h1><b><center>Uso do input()</center></b></h1>\n",
        "\n",
        "\n",
        "---\n",
        "\n"
      ]
    },
    {
      "cell_type": "markdown",
      "metadata": {
        "id": "igDQOmNJlJIr",
        "colab_type": "text"
      },
      "source": [
        "A função input() serve para receber um valor pelo teclado.<br>\n",
        "Ele poder mostrar uma mensagem para o usuário.<br>\n",
        "Não se esqueça de usar uma variável para guardar o valor que o usuário digitou."
      ]
    },
    {
      "cell_type": "code",
      "metadata": {
        "id": "jiOAn_p-lJIr",
        "colab_type": "code",
        "colab": {}
      },
      "source": [
        "# Solicitando um nome para o usuário\n",
        "\n",
        "nome = input(\"Digite o seu nome: \")\n",
        "\n",
        "# É importante sempre ter uma variável para receber o valor do input(), caso contrário o valor será perdido!\n",
        "# Como salvamos o que o usuário escreveu, fica fácil trabalhar com a variável...\n",
        "\n",
        "print(\"Olá \", nome)\n"
      ],
      "execution_count": null,
      "outputs": []
    },
    {
      "cell_type": "markdown",
      "metadata": {
        "id": "hQSteRPnlJIv",
        "colab_type": "text"
      },
      "source": [
        "<h1><b>Exercicio 5</b></h1>\n",
        "\n",
        "Faça um programa que peça o nome do cliente e depois mostre uma mensagem de boas vindas.\n"
      ]
    },
    {
      "cell_type": "code",
      "metadata": {
        "id": "y7tEKHQqlJIw",
        "colab_type": "code",
        "colab": {}
      },
      "source": [
        "nome = str(input(\"Digite seu nome: \"))\n",
        "print(\"Seja bem vindo: \", nome)"
      ],
      "execution_count": null,
      "outputs": []
    },
    {
      "cell_type": "markdown",
      "metadata": {
        "id": "coqxSZqnlJIy",
        "colab_type": "text"
      },
      "source": [
        "<h1><b>Exercicio 6</b></h1>\n",
        "\n",
        "Escreva um programa que peça o nome e a idade do cliente.\n",
        "\n",
        "Depois mostre uma mensagem com o nome e a idade do cliente dando boas vindas."
      ]
    },
    {
      "cell_type": "code",
      "metadata": {
        "id": "w8ppJoTMlJIz",
        "colab_type": "code",
        "colab": {
          "base_uri": "https://localhost:8080/",
          "height": 102
        },
        "outputId": "489a2190-fb82-47f3-d7bf-356b7cb74df4"
      },
      "source": [
        "nome = str(input(\"Digite seu nome: \"))\n",
        "idade = int(input(\"Digite sua idade: \"))\n",
        "print(\"Seu nome é: \", nome)\n",
        "print(\"Sua idade é: \", idade)\n",
        "print(\"Boas vindas\")"
      ],
      "execution_count": 2,
      "outputs": [
        {
          "output_type": "stream",
          "text": [
            "Digite seu nome: Leonardo\n",
            "Digite sua idade: 16\n",
            "Seu nome é:  Leonardo\n",
            "Sua idade é:  16\n",
            "Boas vindas\n"
          ],
          "name": "stdout"
        }
      ]
    },
    {
      "cell_type": "markdown",
      "metadata": {
        "id": "hEuYBgaQlJI1",
        "colab_type": "text"
      },
      "source": [
        "<h1><b>Exercicio 7</b></h1>\n",
        "Escreva um programa que peça o nome e o sobrenome do cliente e mostre na tela um em cada linha.\n"
      ]
    },
    {
      "cell_type": "code",
      "metadata": {
        "id": "9Xca6YoilJI2",
        "colab_type": "code",
        "colab": {
          "base_uri": "https://localhost:8080/",
          "height": 85
        },
        "outputId": "6931fc63-bafd-4ba2-e20c-05af575242bb"
      },
      "source": [
        "nome = str(input(\"Digite seu nome: \"))\n",
        "sobrenome = str(input(\"Digite seu sobrenome: \"))\n",
        "print(nome)\n",
        "print(sobrenome)"
      ],
      "execution_count": 3,
      "outputs": [
        {
          "output_type": "stream",
          "text": [
            "Digite seu nome: Leonardo \n",
            "Digite seu sobrenome: Kostetzer\n",
            "Leonardo \n",
            "Kostetzer\n"
          ],
          "name": "stdout"
        }
      ]
    }
  ]
}