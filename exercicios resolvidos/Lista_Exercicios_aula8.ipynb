{
  "nbformat": 4,
  "nbformat_minor": 0,
  "metadata": {
    "colab": {
      "name": "Lista_Exercicios.ipynb",
      "provenance": [],
      "collapsed_sections": []
    },
    "kernelspec": {
      "display_name": "Python 3",
      "language": "python",
      "name": "python3"
    },
    "language_info": {
      "codemirror_mode": {
        "name": "ipython",
        "version": 3
      },
      "file_extension": ".py",
      "mimetype": "text/x-python",
      "name": "python",
      "nbconvert_exporter": "python",
      "pygments_lexer": "ipython3",
      "version": "3.7.3"
    }
  },
  "cells": [
    {
      "cell_type": "markdown",
      "metadata": {
        "colab_type": "text",
        "id": "w2VSNl3vHO8a"
      },
      "source": [
        "#**LISTAS E METODOS**\n",
        "\n"
      ]
    },
    {
      "cell_type": "markdown",
      "metadata": {
        "colab_type": "text",
        "id": "fUlR63jNHsmr"
      },
      "source": [
        "  **Indexação**\n",
        "  <br><br>\n",
        "  É a forma usada para recuperar parte da lista usando indices. <br>\n",
        "  <br>\n",
        "  lista[ inicio : fim ]\n",
        "  \n",
        "  \n",
        "  Inicio: Inicio da lista, começa com 0<br>\n",
        "  Fim: Fin da lista. <br>\n",
        "  Lembrando que pega o valor anterior."
      ]
    },
    {
      "cell_type": "code",
      "metadata": {
        "colab_type": "code",
        "id": "5iKLxyfAHOCL",
        "colab": {
          "base_uri": "https://localhost:8080/",
          "height": 34
        },
        "outputId": "5f464fe0-a2ea-4c25-9d51-a3ea66d5fedd"
      },
      "source": [
        "lista = [6,7,8,9,10,11,12,13]\n",
        "# Pegando o primeiro elemento\n",
        "print(lista[0])"
      ],
      "execution_count": null,
      "outputs": [
        {
          "output_type": "stream",
          "text": [
            "6\n"
          ],
          "name": "stdout"
        }
      ]
    },
    {
      "cell_type": "code",
      "metadata": {
        "colab_type": "code",
        "id": "79pfVefqI55z",
        "colab": {
          "base_uri": "https://localhost:8080/",
          "height": 34
        },
        "outputId": "4d5a0e9d-e06d-4ace-9f98-732cd43a8ce7"
      },
      "source": [
        "# Pegando o terceio elemento\n",
        "print(lista[2])"
      ],
      "execution_count": null,
      "outputs": [
        {
          "output_type": "stream",
          "text": [
            "8\n"
          ],
          "name": "stdout"
        }
      ]
    },
    {
      "cell_type": "code",
      "metadata": {
        "colab_type": "code",
        "id": "1ui2JJpGKFXn",
        "colab": {
          "base_uri": "https://localhost:8080/",
          "height": 34
        },
        "outputId": "8f1f65e4-705e-4b77-921a-fadd256b4508"
      },
      "source": [
        "# Pegando o último elemento\n",
        "print(lista[-1])"
      ],
      "execution_count": null,
      "outputs": [
        {
          "output_type": "stream",
          "text": [
            "13\n"
          ],
          "name": "stdout"
        }
      ]
    },
    {
      "cell_type": "code",
      "metadata": {
        "colab_type": "code",
        "id": "IQ9hTrYKJybS",
        "colab": {}
      },
      "source": [
        "# Pegar todos os números a partir do terceio elemento\n",
        "print(lista[2:])"
      ],
      "execution_count": null,
      "outputs": []
    },
    {
      "cell_type": "code",
      "metadata": {
        "colab_type": "code",
        "id": "aWaeDzgVJFOi",
        "colab": {}
      },
      "source": [
        "# Pegando o número 7 a 10\n",
        "print(lista[1:5])"
      ],
      "execution_count": null,
      "outputs": []
    },
    {
      "cell_type": "markdown",
      "metadata": {
        "colab_type": "text",
        "id": "kzML6aPfKX_F"
      },
      "source": [
        "Sabia que isso também funciona com strig!"
      ]
    },
    {
      "cell_type": "code",
      "metadata": {
        "colab_type": "code",
        "id": "lu5f4XlTKVUA",
        "colab": {}
      },
      "source": [
        "texto = \"Atirei o pau no gato\"\n",
        "print(texto[2])\n",
        "print(texto[2:10])\n"
      ],
      "execution_count": null,
      "outputs": []
    },
    {
      "cell_type": "markdown",
      "metadata": {
        "colab_type": "text",
        "id": "3BotHU1EKzdc"
      },
      "source": [
        "**Exercícios**"
      ]
    },
    {
      "cell_type": "markdown",
      "metadata": {
        "colab_type": "text",
        "id": "p_0P30cULGha"
      },
      "source": [
        "Dada a seguinte lista, resolva os seguintes questões:\n",
        "\n",
        "\n"
      ]
    },
    {
      "cell_type": "code",
      "metadata": {
        "colab_type": "code",
        "id": "Pt0pWX3dLUl9",
        "colab": {}
      },
      "source": [
        "# EXECUTE ESTE QUADRO PARA PODER USAR A LISTA\n",
        "lista = [10, 20, 'amor', 'abacaxi', 80, 'Abioluz', 'Cachorro grande é de arrasar']"
      ],
      "execution_count": 7,
      "outputs": []
    },
    {
      "cell_type": "markdown",
      "metadata": {
        "colab_type": "text",
        "id": "ZMeql6XELZJW"
      },
      "source": [
        "1) Usando a indexação, escreva na tela a palavra abacaxi"
      ]
    },
    {
      "cell_type": "code",
      "metadata": {
        "colab_type": "code",
        "id": "6P7VnRQaLVrQ",
        "colab": {
          "base_uri": "https://localhost:8080/",
          "height": 34
        },
        "outputId": "ad93b189-fcf1-445a-fc08-309c1092a4bb"
      },
      "source": [
        "print(lista[ 3 ])"
      ],
      "execution_count": 4,
      "outputs": [
        {
          "output_type": "stream",
          "text": [
            "abacaxi\n"
          ],
          "name": "stdout"
        }
      ]
    },
    {
      "cell_type": "markdown",
      "metadata": {
        "colab_type": "text",
        "id": "vTYG1zdjLcW-"
      },
      "source": [
        "2) Usando a indexação, escreva na tela os seguintes dados: 20, amor, abacaxi"
      ]
    },
    {
      "cell_type": "code",
      "metadata": {
        "colab_type": "code",
        "id": "AGyJZ0D8LfLT",
        "colab": {
          "base_uri": "https://localhost:8080/",
          "height": 34
        },
        "outputId": "a17ffa3b-dfc0-4ce7-9d70-63d9202bd34c"
      },
      "source": [
        "print(lista[ 1:4 ])"
      ],
      "execution_count": 9,
      "outputs": [
        {
          "output_type": "stream",
          "text": [
            "[20, 'amor', 'abacaxi']\n"
          ],
          "name": "stdout"
        }
      ]
    },
    {
      "cell_type": "markdown",
      "metadata": {
        "colab_type": "text",
        "id": "Xablhp5XLfsd"
      },
      "source": [
        "3) Usando a indexação, escreva na tela uma lista com dados de 20 até Abioluz\n"
      ]
    },
    {
      "cell_type": "code",
      "metadata": {
        "colab_type": "code",
        "id": "zQTCPuZ2Lmeo",
        "colab": {
          "base_uri": "https://localhost:8080/",
          "height": 34
        },
        "outputId": "6bf49f73-464c-49b6-e973-363d7c030de3"
      },
      "source": [
        "\n",
        "print(lista[1:6])"
      ],
      "execution_count": 13,
      "outputs": [
        {
          "output_type": "stream",
          "text": [
            "[20, 'amor', 'abacaxi', 80, 'Abioluz']\n"
          ],
          "name": "stdout"
        }
      ]
    },
    {
      "cell_type": "markdown",
      "metadata": {
        "colab_type": "text",
        "id": "Uc2ZReXgL2X3"
      },
      "source": [
        "4) Usando a indexação, escreva na tela os seguintes dados:<br><br>\n",
        "10, amor, 80, Cachorro grande é de arrasar"
      ]
    },
    {
      "cell_type": "code",
      "metadata": {
        "colab_type": "code",
        "id": "Z0MQgvfFMmsz",
        "colab": {
          "base_uri": "https://localhost:8080/",
          "height": 105
        },
        "outputId": "42d8c474-90bd-41c8-9a58-d4779dc4ec00"
      },
      "source": [
        "print(lista[0])\n",
        "print(lista[2])\n",
        "print(lista[4])\n",
        "print(lista[6])"
      ],
      "execution_count": 18,
      "outputs": [
        {
          "output_type": "stream",
          "text": [
            "10\n",
            "amor\n",
            "80\n",
            "Cachorro grande é de arrasar\n"
          ],
          "name": "stdout"
        },
        {
          "output_type": "execute_result",
          "data": {
            "text/plain": [
              "(None, None)"
            ]
          },
          "metadata": {
            "tags": []
          },
          "execution_count": 18
        }
      ]
    },
    {
      "cell_type": "markdown",
      "metadata": {
        "colab_type": "text",
        "id": "eX5_oW0gL3kL"
      },
      "source": [
        "5) Usando a indexação escreva na tela os seguintes dados:<br><br>\n",
        "amor - 10 - 10 - abacaxi - Cachorro grande é de arrasar - Abioluz - 10 - 20"
      ]
    },
    {
      "cell_type": "code",
      "metadata": {
        "colab_type": "code",
        "id": "-SwMfGwBMvsi",
        "colab": {
          "base_uri": "https://localhost:8080/",
          "height": 34
        },
        "outputId": "0c9ccba9-0b44-4ee5-a498-88c261ae48a3"
      },
      "source": [
        "print(f\"{lista[2]} - {lista[0]} - {lista[0]} - {lista[3]} - {lista[6]} - {lista[5]} - {lista[0]} - {lista[1]}\")"
      ],
      "execution_count": 21,
      "outputs": [
        {
          "output_type": "stream",
          "text": [
            "amor - 10 - 10 - abacaxi - Cachorro grande é de arrasar - Abioluz - 10 - 20\n"
          ],
          "name": "stdout"
        }
      ]
    },
    {
      "cell_type": "markdown",
      "metadata": {
        "colab_type": "text",
        "id": "sVsk4dKHL4GM"
      },
      "source": [
        "6) Usando a indexação, escreva na tela uma lista com dados de 10 até 80"
      ]
    },
    {
      "cell_type": "code",
      "metadata": {
        "colab_type": "code",
        "id": "1utL0x-3MwYf",
        "colab": {
          "base_uri": "https://localhost:8080/",
          "height": 34
        },
        "outputId": "141b04b5-3bc8-4e8a-c855-cf6f3b44fe57"
      },
      "source": [
        " print(lista[0:5])"
      ],
      "execution_count": 22,
      "outputs": [
        {
          "output_type": "stream",
          "text": [
            "[10, 20, 'amor', 'abacaxi', 80]\n"
          ],
          "name": "stdout"
        }
      ]
    },
    {
      "cell_type": "markdown",
      "metadata": {
        "colab_type": "text",
        "id": "AbrHT9jvL4Ma"
      },
      "source": [
        "7) Usando a indexação, escreva na tela os seguintes dados:<br><br>\n",
        "10, abacaxi, Cachorro grande é de arrasar"
      ]
    },
    {
      "cell_type": "code",
      "metadata": {
        "colab_type": "code",
        "id": "VMe6eL8_MJv_",
        "colab": {
          "base_uri": "https://localhost:8080/",
          "height": 34
        },
        "outputId": "c8599793-4ffc-4310-c3fd-75c8073e72cc"
      },
      "source": [
        "print(f\"{lista[0]},{lista[3]},{lista[6]}\")"
      ],
      "execution_count": 23,
      "outputs": [
        {
          "output_type": "stream",
          "text": [
            "10,abacaxi,Cachorro grande é de arrasar\n"
          ],
          "name": "stdout"
        }
      ]
    },
    {
      "cell_type": "markdown",
      "metadata": {
        "colab_type": "text",
        "id": "i19YAXuBM0lL"
      },
      "source": [
        "\n",
        "\n",
        "---\n",
        "\n"
      ]
    }
  ]
}