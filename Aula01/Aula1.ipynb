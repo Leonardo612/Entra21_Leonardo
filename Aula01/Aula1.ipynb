{
 "cells": [
  {
   "cell_type": "code",
   "execution_count": null,
   "metadata": {
    "colab": {},
    "colab_type": "code",
    "id": "cM0SBMSZbL2N"
   },
   "outputs": [],
   "source": [
    "# Comentando esta linha\n"
   ]
  },
  {
   "cell_type": "code",
   "execution_count": null,
   "metadata": {
    "colab": {
     "base_uri": "https://localhost:8080/",
     "height": 51
    },
    "colab_type": "code",
    "id": "CmboCzLvcDFw",
    "outputId": "b6723223-fd64-4bd1-a1c1-938646927acc"
   },
   "outputs": [
    {
     "name": "stdout",
     "output_type": "stream",
     "text": [
      "Ola Mundo\n",
      "Oi tudo bem?\n"
     ]
    }
   ],
   "source": [
    "# print é para mostrar texto e informações na tela\n",
    "print(\"Ola Mundo\") # Aspas duplas\n",
    "print('Oi tudo bem?') # Aspas simples\n",
    "\n"
   ]
  },
  {
   "cell_type": "code",
   "execution_count": null,
   "metadata": {
    "colab": {},
    "colab_type": "code",
    "id": "VR16dVpIcPA5"
   },
   "outputs": [],
   "source": [
    "# Menu interativo\n",
    "print(\"\"\"\n",
    "Sistemas de operações matemáticas\n",
    "\n",
    "1) Soma:\n",
    "2) Multiplicação:\n",
    "3) Divisão:\n",
    "4) Subtração:\n",
    "\n",
    "Digite a opção desejada:\"\"\")\n",
    "istrume = input (\"digite\")"
   ]
  },
  {
   "cell_type": "code",
   "execution_count": null,
   "metadata": {
    "colab": {},
    "colab_type": "code",
    "id": "Udmw4Vb9fs5t"
   },
   "outputs": [],
   "source": [
    "# Imput solicita que digite algo pelo teclado.\n",
    "input(\"Digite o seu nome: \")"
   ]
  },
  {
   "cell_type": "code",
   "execution_count": null,
   "metadata": {
    "colab": {},
    "colab_type": "code",
    "id": "MUneFgwVg1ft"
   },
   "outputs": [],
   "source": [
    "# Salvando a entrada na variável nome\n",
    "nome = input(\"Digite o seu nome: \")\n",
    "# Mostrando na tela a variavel nome\n",
    "print(\"Seja bem vindo\", nome)\n",
    "print(nome)"
   ]
  },
  {
   "cell_type": "code",
   "execution_count": null,
   "metadata": {
    "colab": {},
    "colab_type": "code",
    "id": "qAObMavRiKff"
   },
   "outputs": [],
   "source": [
    "Abioluz +55 47 99155-4141\n",
    "abioluz@gmail.com"
   ]
  },
  {
   "cell_type": "code",
   "execution_count": null,
   "metadata": {
    "colab": {},
    "colab_type": "code",
    "id": "XCX0Iu0bifpL"
   },
   "outputs": [],
   "source": [
    "# Nomes das variáveis\n",
    "\n",
    "nome = ''\n",
    "idade = ''\n",
    "#1nao_fumfa\n",
    "#$não_funfa\n",
    "nomecompleto = \"\"\n",
    "nomeCompleto = \"\"\n",
    "nome_completo = \"\"\n",
    "nome = 10"
   ]
  },
  {
   "cell_type": "code",
   "execution_count": null,
   "metadata": {
    "colab": {},
    "colab_type": "code",
    "id": "DpYAbRGUjm_M"
   },
   "outputs": [],
   "source": [
    "# Tipos de variáveis\n",
    "# Inteiro - Números inteiros (1, 2, 3, 4, ...)\n",
    "inteiro = 1\n",
    "filhos = input(\"Quantos filhos tem um casal? \")\n",
    "\n",
    "# Floats ou Números Reais (1.35, 1.5, 3.55) - Números quebrados,ex: moedas\n",
    "\n",
    "real = 1.99\n",
    "real = input(\"Qual o preço do ovo? \")\n",
    "\n",
    "# Texto - String\n",
    "print(\"texto\")\n",
    "texto = \"Oi eu sou um texto\"\n",
    "texto = 'Oi eu sou um texto'\n",
    "texto = \"\"\"Oi eu sou um texto\"\"\"\n",
    "\"texto\" # isso não é uma variável. Isso é uma string/texto!\n",
    "texto =  \"caixa d'agua \"\n",
    "texto =  'caixa d\"agua '\n"
   ]
  },
  {
   "cell_type": "code",
   "execution_count": null,
   "metadata": {
    "colab": {},
    "colab_type": "code",
    "id": "M4JrWw6Pmjbk"
   },
   "outputs": [],
   "source": [
    "# Doc string\n",
    "\n",
    "print(\"\"\"\n",
    "Sou \n",
    "um comentário\n",
    "de várias linhas\n",
    "\"\"\")\n",
    "\n",
    "print(\"Sou \\num comentário\\nde várias linhas\")\n"
   ]
  },
  {
   "cell_type": "code",
   "execution_count": null,
   "metadata": {
    "colab": {},
    "colab_type": "code",
    "id": "NblhYnmEoXIT"
   },
   "outputs": [],
   "source": [
    "# Crie um menu interativo de instrumentos musicais que possua os seguintes itens:\n",
    "# Guitarra, pandeiro, violão, guitarra, bateria\n",
    "# Solicite para digitar a opção desejada e motre o número da opção que foi digitada.\n",
    "\n",
    "\n",
    "# Assunto do e-mail: Exercicio 1\n",
    "abioluz@gmail.com\n"
   ]
  },
  {
   "cell_type": "code",
   "execution_count": null,
   "metadata": {
    "colab": {},
    "colab_type": "code",
    "id": "tabzCZ2qtHE-"
   },
   "outputs": [],
   "source": [
    "# Variaveis\n",
    "\n",
    "pessoas = 10\n",
    "\n",
    "print(pessoas)\n"
   ]
  }
 ],
 "metadata": {
  "colab": {
   "name": "Untitled3.ipynb",
   "provenance": []
  },
  "kernelspec": {
   "display_name": "Python 3",
   "language": "python",
   "name": "python3"
  },
  "language_info": {
   "codemirror_mode": {
    "name": "ipython",
    "version": 3
   },
   "file_extension": ".py",
   "mimetype": "text/x-python",
   "name": "python",
   "nbconvert_exporter": "python",
   "pygments_lexer": "ipython3",
   "version": "3.7.3"
  }
 },
 "nbformat": 4,
 "nbformat_minor": 1
}
