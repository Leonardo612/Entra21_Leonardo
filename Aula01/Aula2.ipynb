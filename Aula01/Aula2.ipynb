{
  "nbformat": 4,
  "nbformat_minor": 0,
  "metadata": {
    "colab": {
      "name": "Untitled4.ipynb",
      "provenance": []
    },
    "kernelspec": {
      "name": "python3",
      "display_name": "Python 3"
    }
  },
  "cells": [
    {
      "cell_type": "code",
      "metadata": {
        "id": "jXjq4R2jv2y1",
        "colab_type": "code",
        "colab": {
          "base_uri": "https://localhost:8080/",
          "height": 34
        },
        "outputId": "c9b6e26c-fa9b-4e31-daa0-54cb817c667d"
      },
      "source": [
        "# Variaveis\n",
        "\n",
        "pessoa1 = 10\n",
        "pessoa2 = 20\n",
        "\n",
        "print(pessoa1 + pessoa2)\n"
      ],
      "execution_count": 4,
      "outputs": [
        {
          "output_type": "stream",
          "text": [
            "30\n"
          ],
          "name": "stdout"
        }
      ]
    },
    {
      "cell_type": "code",
      "metadata": {
        "id": "L2HGhkZuwIt5",
        "colab_type": "code",
        "colab": {}
      },
      "source": [
        "pessoa1 = int( input(\"Digite o número de pessoas: \") )\n",
        "talheres =  int( input(\"Digite o número de talheres por pessoa: \") )\n",
        "# Converter de str/texto para número inteiro  int()\n",
        "\n",
        "# type() comando que retorna o tipo da variável\n",
        "\n",
        "type(pessoa1)\n",
        "#str é texto\n",
        "# int é inteiro\n",
        "# float números reais\n",
        "\n",
        "print(pessoa1/talheres)\n"
      ],
      "execution_count": null,
      "outputs": []
    },
    {
      "cell_type": "code",
      "metadata": {
        "id": "LPqYVSQwyiVt",
        "colab_type": "code",
        "colab": {
          "base_uri": "https://localhost:8080/",
          "height": 51
        },
        "outputId": "af9f38d8-b144-4fd6-ec94-88b517bfe326"
      },
      "source": [
        "# Soma +\n",
        "# Subtração -\n",
        "# multiplicação *\n",
        "# divizão /\n",
        "\n",
        "dogao = int( input(\"Quantidade de cachorro quente: \") )\n",
        "valor_dogao = 6.50\n",
        "\n",
        "print(\"O valor total do cachorro quente é: R$\",dogao * valor_dogao)\n"
      ],
      "execution_count": 22,
      "outputs": [
        {
          "output_type": "stream",
          "text": [
            "Quantidade de cachorro quente: 10\n",
            "O valor total do cachorro quente é: R$ 65.0\n"
          ],
          "name": "stdout"
        }
      ]
    },
    {
      "cell_type": "code",
      "metadata": {
        "id": "PbCx2U4j0MI3",
        "colab_type": "code",
        "colab": {}
      },
      "source": [
        "# Exercicios\n",
        "\n",
        "# 1) Digite 2 números e mostre (print) a soma dos números\n",
        "# 2) Digite 2 números e mostre (print) a divisão dos números\n",
        "# 3) Digite 2 números e mostre (print) a multiplicação dos números\n",
        "# 4) Digite 2 números e mostre (print) a subtração dos números\n",
        "\n",
        "# Assunto exercico 2\n",
        "abioluz@gmail.com"
      ],
      "execution_count": null,
      "outputs": []
    },
    {
      "cell_type": "code",
      "metadata": {
        "id": "bKbPJVKb3mEY",
        "colab_type": "code",
        "colab": {}
      },
      "source": [
        "# 1)\n",
        "valor1 = int( input(\"Digite um número para a soma: \") )\n",
        "valor2 = int( input('Digiete o segundo número para a soma: ') )\n",
        "\n",
        "print(valor1 + valor2)\n"
      ],
      "execution_count": null,
      "outputs": []
    },
    {
      "cell_type": "code",
      "metadata": {
        "id": "WZprukx-9ZkN",
        "colab_type": "code",
        "colab": {
          "base_uri": "https://localhost:8080/",
          "height": 68
        },
        "outputId": "d1e22754-6f0d-45f0-ead6-bfd6c60b8f77"
      },
      "source": [
        "# 1)\n",
        "valor1 = float( input(\"Digite um número para a soma: \") )\n",
        "valor2 = float( input('Digiete o segundo número para a soma: ') )\n",
        "\n",
        "print(valor1 + valor2)\n"
      ],
      "execution_count": 33,
      "outputs": [
        {
          "output_type": "stream",
          "text": [
            "Digite um número para a soma: 5.65\n",
            "Digiete o segundo número para a soma: 1.99\n",
            "7.640000000000001\n"
          ],
          "name": "stdout"
        }
      ]
    },
    {
      "cell_type": "code",
      "metadata": {
        "id": "6Q8LzU2s9Sum",
        "colab_type": "code",
        "colab": {
          "base_uri": "https://localhost:8080/",
          "height": 34
        },
        "outputId": "950692d7-1039-4ca4-b038-dacc7098d832"
      },
      "source": [
        "resultado = 0\n",
        "var1 = 10\n",
        "var2 = 3\n",
        "resultado = var1/ var2\n",
        "print(resultado)"
      ],
      "execution_count": 36,
      "outputs": [
        {
          "output_type": "stream",
          "text": [
            "3.3333333333333335\n"
          ],
          "name": "stdout"
        }
      ]
    },
    {
      "cell_type": "code",
      "metadata": {
        "id": "yZsRLQsM-bhv",
        "colab_type": "code",
        "colab": {}
      },
      "source": [
        "# Inteiro\n",
        "int()\n",
        "# Real / float / ponto flutuante\n",
        "float()\n",
        "# texto / string\n",
        "str()"
      ],
      "execution_count": null,
      "outputs": []
    },
    {
      "cell_type": "code",
      "metadata": {
        "id": "w34yUoKM-oTj",
        "colab_type": "code",
        "colab": {
          "base_uri": "https://localhost:8080/",
          "height": 51
        },
        "outputId": "e4a60fd8-083b-40c0-bbc5-7be1e7fb900d"
      },
      "source": [
        "teste = float(10)\n",
        "teste = str(10)\n",
        "print(teste)\n",
        "type(teste)\n"
      ],
      "execution_count": 43,
      "outputs": [
        {
          "output_type": "stream",
          "text": [
            "10\n"
          ],
          "name": "stdout"
        },
        {
          "output_type": "execute_result",
          "data": {
            "text/plain": [
              "str"
            ]
          },
          "metadata": {
            "tags": []
          },
          "execution_count": 43
        }
      ]
    },
    {
      "cell_type": "code",
      "metadata": {
        "id": "-L_JcRP8_ak7",
        "colab_type": "code",
        "colab": {
          "base_uri": "https://localhost:8080/",
          "height": 68
        },
        "outputId": "82ec72ce-01de-43b3-9b8c-e703716de2d1"
      },
      "source": [
        "# 1)\n",
        "valor1 = str( input(\"Digite um número para a soma: \") )\n",
        "valor2 = str( input('Digiete o segundo número para a soma: ') )\n",
        "\n",
        "print(valor1, valor2)\n"
      ],
      "execution_count": 44,
      "outputs": [
        {
          "output_type": "stream",
          "text": [
            "Digite um número para a soma: 10\n",
            "Digiete o segundo número para a soma: 50\n",
            "10 50\n"
          ],
          "name": "stdout"
        }
      ]
    },
    {
      "cell_type": "code",
      "metadata": {
        "id": "VknTh5vz_qHz",
        "colab_type": "code",
        "colab": {}
      },
      "source": [
        "print(\"Aprete enter para sair!\")\n",
        "input()\n",
        "print('Saiu!')"
      ],
      "execution_count": null,
      "outputs": []
    },
    {
      "cell_type": "code",
      "metadata": {
        "id": "mz8Cfyad_8TN",
        "colab_type": "code",
        "colab": {
          "base_uri": "https://localhost:8080/",
          "height": 68
        },
        "outputId": "31837e12-9c92-4f6a-aaca-62fecc37ca36"
      },
      "source": [
        "print(\"Digite seu nome\")\n",
        "nome = input()\n",
        "print('Oi', nome)"
      ],
      "execution_count": 46,
      "outputs": [
        {
          "output_type": "stream",
          "text": [
            "Digite seu nome\n",
            "Abioluz\n",
            "Oi Abioluz\n"
          ],
          "name": "stdout"
        }
      ]
    }
  ]
}